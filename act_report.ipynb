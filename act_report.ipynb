{
 "cells": [
  {
   "cell_type": "markdown",
   "metadata": {},
   "source": [
    "# Report on the Twitter Dataset"
   ]
  },
  {
   "cell_type": "markdown",
   "metadata": {},
   "source": [
    "Based on the final clean dataset (i.e. `master_clean` or `twitter_archive_master.csv`), I come up with the following ___FIVE INSIGHTS___:  \n",
    "    \n",
    "**1. What are the TOP 10 Tweets favored by most users? And how about the retweets?**\n",
    "\n",
    "**2. What are the most common dog names?**\n",
    "\n",
    "**3. What are the most common dog_stage in these tweets?**\n",
    "\n",
    "**4. What is the ratings distributed like?**\n",
    "\n",
    "**5. What are the most common breeds found by the neural network?**\n",
    "\n",
    "---"
   ]
  },
  {
   "cell_type": "markdown",
   "metadata": {},
   "source": [
    "**1. What are the TOP 3 Tweets favored by most users? And how about the retweets?**"
   ]
  },
  {
   "cell_type": "markdown",
   "metadata": {},
   "source": [
    "As per the summary of the `favorite_count` column, I filtered out the top 10 most favorite tweets as follows:\n",
    "\n",
    "<img src='top10_twi_summary.png' alt='top10_twi_summary' width=300 align='left'>\n",
    "\n",
    "<img src='top10_favorite_twi.png' alt='top10_favorite_twi' width=600 align='left'>"
   ]
  },
  {
   "cell_type": "markdown",
   "metadata": {},
   "source": [
    "We can see from above that the favorite tweet `twi_id: 744234799360020481` (with the largest favorite count) has 150,454 counts which means there are 150454 people cliking '**likes**' or '**favorite**'. The first one and the second has a difference gap as large as 22,000 counts.\n",
    "\n",
    "<br>"
   ]
  },
  {
   "cell_type": "markdown",
   "metadata": {},
   "source": [
    "As per the summary of the `retweet_count` column, I filtered out the top 10 tweets with the largest retweet counts as follows:\n",
    "\n",
    "<img src='top10_retwi_summary.png' alt='top10_retwi_summary' width=300 align='left'>\n",
    "\n",
    "<img src='top10_favorite_retwi.png' alt='top10_favorite_retwi' width=600 align='left'>\n"
   ]
  },
  {
   "cell_type": "markdown",
   "metadata": {},
   "source": [
    "We can see from above that the tweet (`twi_id: 744234799360020481`) with the largest retweet count is more than 74,000 counts. What is interesting is that this tweet has the largest counts of 'likes' or 'favorite' as well (As can be seen from ___Insight_1___).\n",
    "\n",
    "<br>"
   ]
  },
  {
   "cell_type": "markdown",
   "metadata": {},
   "source": [
    "**2. What are the most common dog names?**\n",
    "\n",
    "<img src='most_comon_dog_names.png' alt='most_comon_dog_names' width=350 align='left'>\n"
   ]
  },
  {
   "cell_type": "markdown",
   "metadata": {},
   "source": [
    "We can see from summary above that, the three most common dog names are `Oliver`, `Lucy` and `Cooper` with 9 counts in total.\n",
    "\n",
    "<br>"
   ]
  },
  {
   "cell_type": "markdown",
   "metadata": {},
   "source": [
    "**3. What are the most common dog_stage in these tweets?**\n",
    "\n",
    "<img src='dog_stage_summary.png' alt='dog_stage_summary' width=300 align='left'>\n",
    "\n",
    "<img src='dog_stage_summaryPct.png' alt='dog_stage_summaryPct' width=320 align='left'>\n"
   ]
  },
  {
   "cell_type": "markdown",
   "metadata": {},
   "source": [
    "We can see from summary above that, the most common dog stage is `pupper` with **198** counts and covers nearly **69%** in total.\n",
    "\n",
    "<br>"
   ]
  },
  {
   "cell_type": "markdown",
   "metadata": {},
   "source": [
    "**5. What is the ratings distributed like?**"
   ]
  },
  {
   "cell_type": "markdown",
   "metadata": {},
   "source": [
    "Before studying on the distribution of ratings, we can use boxplot to check the general distribution pattern of the ratings (As can be seen as below). \n",
    "\n",
    "<img src='ratings_counts_summ.png' alt='ratings_counts_summ' width=260 align='left'>\n",
    "\n",
    "<img src='ratings_boxplot.png' alt='ratings_boxplot' width=500 align='left'>\n"
   ]
  },
  {
   "cell_type": "markdown",
   "metadata": {},
   "source": [
    "As these values heavily affecting the distribution of the while ratings. We can filter out these two values and check their distribution of the most common rating values.\n",
    "\n",
    "<img src='ratings_dist.png' alt='ratings_dist' width=400>"
   ]
  },
  {
   "cell_type": "markdown",
   "metadata": {},
   "source": [
    "We can see that ratings distribution is a little left-skewed, with the most frequencies being in the range between 1 and 1.3 .\n",
    "\n",
    "<br>"
   ]
  },
  {
   "cell_type": "markdown",
   "metadata": {},
   "source": [
    "**5. What are the most common breeds found by the neural network?**"
   ]
  },
  {
   "cell_type": "markdown",
   "metadata": {},
   "source": [
    "<img src='most_common_breeds.png' alt='most_common_breeds' width=500 align='left'>\n"
   ]
  },
  {
   "cell_type": "markdown",
   "metadata": {},
   "source": [
    "As we can see from summary above, the most common breed found by the neural network is **golden retriever** with **127** counts, followed by **Labrador Retriever** with **88** counts, **Pembroke** with **79** counts and **Chihuahua** with **75** counts."
   ]
  }
 ],
 "metadata": {
  "kernelspec": {
   "display_name": "Python 3",
   "language": "python",
   "name": "python3"
  },
  "language_info": {
   "codemirror_mode": {
    "name": "ipython",
    "version": 3
   },
   "file_extension": ".py",
   "mimetype": "text/x-python",
   "name": "python",
   "nbconvert_exporter": "python",
   "pygments_lexer": "ipython3",
   "version": "3.7.9"
  }
 },
 "nbformat": 4,
 "nbformat_minor": 4
}
